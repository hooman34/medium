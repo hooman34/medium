{
 "cells": [
  {
   "cell_type": "code",
   "execution_count": 43,
   "id": "4a9b9c86",
   "metadata": {},
   "outputs": [],
   "source": [
    "import matplotlib.pyplot as plt\n",
    "from matplotlib.pyplot import figure\n",
    "import random\n",
    "import pandas as pd\n",
    "import numpy as np"
   ]
  },
  {
   "cell_type": "markdown",
   "id": "2eb2901c",
   "metadata": {},
   "source": [
    "outlier graph"
   ]
  },
  {
   "cell_type": "code",
   "execution_count": 45,
   "id": "9dee6d3d",
   "metadata": {},
   "outputs": [],
   "source": [
    "data = dict()\n",
    "data['numbers1'] = list(np.random.rand(30))\n",
    "data['numbers2'] = list(np.random.rand(30))\n",
    "\n",
    "data['numbers1'].extend([20, 19, 21])\n",
    "data['numbers2'].extend([20, 18, 23])\n",
    "\n",
    "df = pd.DataFrame(data)"
   ]
  },
  {
   "cell_type": "code",
   "execution_count": 47,
   "id": "e2d6d900",
   "metadata": {},
   "outputs": [
    {
     "data": {
      "image/png": "[encoded data removed]",
      "text/plain": [
       "<Figure size 640x480 with 1 Axes>"
      ]
     },
     "metadata": {
      "needs_background": "light"
     },
     "output_type": "display_data"
    }
   ],
   "source": [
    "figure(figsize=(8, 6), dpi=80)\n",
    "\n",
    "plt.scatter(data['numbers1'], data['numbers2'], alpha=0.8);\n",
    "\n",
    "plt.savefig('plots/outlier_scatter.png')"
   ]
  },
  {
   "cell_type": "code",
   "execution_count": null,
   "id": "a41dead8",
   "metadata": {},
   "outputs": [],
   "source": []
  }
 ],
 "metadata": {
  "kernelspec": {
   "display_name": "Python [conda env:market] *",
   "language": "python",
   "name": "conda-env-market-py"
  },
  "language_info": {
   "codemirror_mode": {
    "name": "ipython",
    "version": 3
   },
   "file_extension": ".py",
   "mimetype": "text/x-python",
   "name": "python",
   "nbconvert_exporter": "python",
   "pygments_lexer": "ipython3",
   "version": "3.9.12"
  }
 },
 "nbformat": 4,
 "nbformat_minor": 5
}
